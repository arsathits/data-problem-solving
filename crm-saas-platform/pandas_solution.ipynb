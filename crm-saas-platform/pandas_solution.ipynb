{
 "cells": [
  {
   "cell_type": "code",
   "execution_count": 1,
   "id": "d4300632",
   "metadata": {},
   "outputs": [],
   "source": [
    "import pandas as pd\n",
    "from sqlalchemy import create_engine\n",
    "from urllib.parse import quote_plus"
   ]
  },
  {
   "cell_type": "code",
   "execution_count": 2,
   "id": "a5ce2b60",
   "metadata": {},
   "outputs": [],
   "source": [
    "# PostgreSQL credentials\n",
    "username = \"postgres\"                 \n",
    "password = quote_plus(\"Thanda@23\")     \n",
    "host = \"localhost\"\n",
    "port = \"5432\"\n",
    "database = \"data_problems\"            \n",
    "\n",
    "engine = create_engine(f'postgresql://{username}:{password}@{host}:{port}/{database}')\n",
    "\n",
    "customers = pd.read_sql('SELECT * FROM problem_2_crm_customers', engine)\n",
    "orders =  pd.read_sql('SELECT * FROM problem_2_crm_orders', engine)\n",
    "products =  pd.read_sql('SELECT * FROM problem_2_crm_products', engine)"
   ]
  },
  {
   "cell_type": "code",
   "execution_count": 3,
   "id": "9df31887",
   "metadata": {},
   "outputs": [],
   "source": [
    "def unified_order_view(customers, orders, products):\n",
    "    merged_df = orders.merge(customers, on='customer_id')\\\n",
    "                  .merge(products, on='product_id')\n",
    "\n",
    "    merged_df['customer_name'] = merged_df['first_name'] + ' ' + merged_df['last_name']\n",
    "\n",
    "    result_df = merged_df[['order_id', 'customer_name', 'email', 'product_name', 'category', 'order_date']] \\\n",
    "        .rename(columns={\n",
    "            'order_id': 'order id',\n",
    "            'email': 'customer email',\n",
    "            'product_name': 'product name',\n",
    "            'category': 'product category',\n",
    "            'order_date': 'order date'\n",
    "        })\n",
    "    \n",
    "    return result_df"
   ]
  },
  {
   "cell_type": "code",
   "execution_count": 4,
   "id": "62f2429f",
   "metadata": {},
   "outputs": [
    {
     "name": "stdout",
     "output_type": "stream",
     "text": [
      "   order id customer_name        customer email product name product category  \\\n",
      "0      1001      John Doe    john.doe@email.com    Product A        Category1   \n",
      "1      1002    Jane Smith  jane.smith@email.com    Product B        Category2   \n",
      "\n",
      "   order date  \n",
      "0  2023-01-10  \n",
      "1  2023-01-11  \n"
     ]
    }
   ],
   "source": [
    "final_df = unified_order_view(customers, orders, products)\n",
    "print(final_df)"
   ]
  }
 ],
 "metadata": {
  "kernelspec": {
   "display_name": "Python 3",
   "language": "python",
   "name": "python3"
  },
  "language_info": {
   "codemirror_mode": {
    "name": "ipython",
    "version": 3
   },
   "file_extension": ".py",
   "mimetype": "text/x-python",
   "name": "python",
   "nbconvert_exporter": "python",
   "pygments_lexer": "ipython3",
   "version": "3.10.8"
  }
 },
 "nbformat": 4,
 "nbformat_minor": 5
}
