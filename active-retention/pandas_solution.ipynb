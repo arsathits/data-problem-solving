{
 "cells": [
  {
   "cell_type": "code",
   "execution_count": 1,
   "id": "26d34bd3",
   "metadata": {},
   "outputs": [],
   "source": [
    "import pandas as pd\n",
    "import sys\n",
    "import os\n",
    "\n",
    "# Add project root to path\n",
    "sys.path.append(r\"D:\\data-problem-solving\")\n",
    "\n",
    "from db import load_table, engine\n",
    "\n",
    "ar_user_actions =  load_table('ar_user_actions')"
   ]
  },
  {
   "cell_type": "code",
   "execution_count": 2,
   "id": "0a859030",
   "metadata": {},
   "outputs": [
    {
     "name": "stdout",
     "output_type": "stream",
     "text": [
      "   month  monthly_active_users\n",
      "0      7                     3\n"
     ]
    }
   ],
   "source": [
    "ar_user_actions['event_date'] = pd.to_datetime(ar_user_actions['event_date'])\n",
    "\n",
    "ar_user_actions['month'] = ar_user_actions['event_date'].dt.month\n",
    "ar_user_actions['year'] = ar_user_actions['event_date'].dt.year\n",
    "\n",
    "valid_actions = [\"sign-in\", \"like\", \"comment\"]\n",
    "ar_user_actions = ar_user_actions[ar_user_actions['event_type'].isin(valid_actions)]\n",
    "\n",
    "user_month = ar_user_actions.groupby([\"user_id\", \"year\", \"month\"]).size().reset_index(name='actions')\n",
    "\n",
    "# Users active in June 2022\n",
    "june_users = set(user_month.query(\"year == 2022 and month == 6\")[\"user_id\"])\n",
    "\n",
    "# Users active in July 2022\n",
    "july_users = set(user_month.query(\"year == 2022 and month == 7\")[\"user_id\"])\n",
    "\n",
    "maus = len(june_users.intersection(july_users))\n",
    "\n",
    "result = pd.DataFrame({\n",
    "    \"month\" : [7],\n",
    "    \"monthly_active_users\": [maus]\n",
    "})\n",
    "\n",
    "print(result)"
   ]
  }
 ],
 "metadata": {
  "kernelspec": {
   "display_name": "Python 3",
   "language": "python",
   "name": "python3"
  },
  "language_info": {
   "codemirror_mode": {
    "name": "ipython",
    "version": 3
   },
   "file_extension": ".py",
   "mimetype": "text/x-python",
   "name": "python",
   "nbconvert_exporter": "python",
   "pygments_lexer": "ipython3",
   "version": "3.10.8"
  }
 },
 "nbformat": 4,
 "nbformat_minor": 5
}
