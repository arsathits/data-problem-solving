{
 "cells": [
  {
   "cell_type": "code",
   "execution_count": 2,
   "id": "61eb2412",
   "metadata": {},
   "outputs": [],
   "source": [
    "import pandas as pd\n",
    "import sys\n",
    "import os\n",
    "\n",
    "# Add project root to path\n",
    "sys.path.append(r\"D:\\data-problem-solving\")\n",
    "\n",
    "from db import load_table, engine\n",
    "\n",
    "df_acc = pd.read_sql('SELECT * FROM \"Premium vs Freemium\".ms_acc_dimension', engine)\n",
    "df_user = pd.read_sql('SELECT * FROM \"Premium vs Freemium\".ms_user_dimension', engine)\n",
    "df_download = pd.read_sql('SELECT * FROM \"Premium vs Freemium\".ms_download_facts', engine)\n"
   ]
  },
  {
   "cell_type": "code",
   "execution_count": 4,
   "id": "a30d9ee3",
   "metadata": {},
   "outputs": [],
   "source": [
    "# Join the three tables\n",
    "cte = (\n",
    "    df_acc.merge(df_user, on='acc_id')\n",
    "          .merge(df_download, on='user_id')\n",
    ")\n",
    "\n",
    "# Group and aggregate\n",
    "result = (\n",
    "    cte.groupby('date')\n",
    "       .agg(\n",
    "           non_paying=('downloads', lambda x: x[cte.loc[x.index, 'paying_customer'] == 'no'].sum()),\n",
    "           paying=('downloads', lambda x: x[cte.loc[x.index, 'paying_customer'] == 'yes'].sum())\n",
    "       )\n",
    "       .reset_index()\n",
    ")\n",
    "\n",
    "# Apply the HAVING condition\n",
    "result = result[result['non_paying'] > result['paying']]\n",
    "\n",
    "# Sort by date\n",
    "result = result.sort_values('date')\n"
   ]
  },
  {
   "cell_type": "code",
   "execution_count": 5,
   "id": "3d7a68ab",
   "metadata": {},
   "outputs": [
    {
     "name": "stdout",
     "output_type": "stream",
     "text": [
      "         date  non_paying  paying\n",
      "1  2020-08-16          15      14\n",
      "2  2020-08-17          45       9\n",
      "3  2020-08-18          10       7\n",
      "6  2020-08-21          32      17\n"
     ]
    }
   ],
   "source": [
    "print(result)"
   ]
  }
 ],
 "metadata": {
  "kernelspec": {
   "display_name": "Python 3",
   "language": "python",
   "name": "python3"
  },
  "language_info": {
   "codemirror_mode": {
    "name": "ipython",
    "version": 3
   },
   "file_extension": ".py",
   "mimetype": "text/x-python",
   "name": "python",
   "nbconvert_exporter": "python",
   "pygments_lexer": "ipython3",
   "version": "3.10.8"
  }
 },
 "nbformat": 4,
 "nbformat_minor": 5
}
