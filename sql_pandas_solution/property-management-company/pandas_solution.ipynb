{
 "cells": [
  {
   "cell_type": "code",
   "execution_count": 1,
   "id": "4cb000ee",
   "metadata": {},
   "outputs": [],
   "source": [
    "import pandas as pd\n",
    "import sys\n",
    "import os\n",
    "\n",
    "# Add project root to path\n",
    "sys.path.append(r\"D:\\data-problem-solving\")\n",
    "\n",
    "from db import load_table, engine\n",
    "\n",
    "prop_properties =  load_table('problem_03_prop_properties') \n",
    "prop_landlords =  load_table('problem_03_prop_landlords') "
   ]
  },
  {
   "cell_type": "code",
   "execution_count": 2,
   "id": "cdaf01ac",
   "metadata": {},
   "outputs": [],
   "source": [
    "def etl(prop_landlords, prop_properties):\n",
    "    # Merge the two DataFrames on landlord_id\n",
    "    merged_df = prop_properties.merge(prop_landlords, how='inner', on='landlord_id')\n",
    "\n",
    "    # Assign landlord_name, group by landlord_id and landlord_name, then sum rent\n",
    "    final_df = merged_df.assign(\n",
    "        landlord_name=merged_df['first_name'] + ' ' + merged_df['last_name']\n",
    "    ).groupby(\n",
    "        ['landlord_id', 'landlord_name']\n",
    "    ).agg(\n",
    "        total_rental_income=('rent', 'sum')\n",
    "    ).reset_index().sort_values('landlord_id')\n",
    "\n",
    "    return final_df"
   ]
  },
  {
   "cell_type": "code",
   "execution_count": 3,
   "id": "0c6260ce",
   "metadata": {},
   "outputs": [
    {
     "name": "stdout",
     "output_type": "stream",
     "text": [
      "   landlord_id landlord_name  total_rental_income\n",
      "0          101    John Smith               2700.0\n",
      "1          102      Jane Doe               2000.0\n",
      "2          103   Bob Johnson               2800.0\n"
     ]
    }
   ],
   "source": [
    "final_df = etl(prop_landlords, prop_properties)\n",
    "print(final_df)"
   ]
  }
 ],
 "metadata": {
  "kernelspec": {
   "display_name": "Python 3",
   "language": "python",
   "name": "python3"
  },
  "language_info": {
   "codemirror_mode": {
    "name": "ipython",
    "version": 3
   },
   "file_extension": ".py",
   "mimetype": "text/x-python",
   "name": "python",
   "nbconvert_exporter": "python",
   "pygments_lexer": "ipython3",
   "version": "3.10.8"
  }
 },
 "nbformat": 4,
 "nbformat_minor": 5
}
