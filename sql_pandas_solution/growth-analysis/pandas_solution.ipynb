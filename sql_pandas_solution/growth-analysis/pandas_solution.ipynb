{
 "cells": [
  {
   "cell_type": "code",
   "execution_count": 1,
   "id": "f42a0a9d",
   "metadata": {},
   "outputs": [],
   "source": [
    "import pandas as pd\n",
    "import sys\n",
    "import os\n",
    "\n",
    "# Add project root to path\n",
    "sys.path.append(r\"D:\\data-problem-solving\")\n",
    "\n",
    "from db import load_table, engine\n",
    "\n",
    "ga_user_transactions =  load_table('ga_user_transactions')"
   ]
  },
  {
   "cell_type": "code",
   "execution_count": 2,
   "id": "4d9342fa",
   "metadata": {},
   "outputs": [
    {
     "name": "stdout",
     "output_type": "stream",
     "text": [
      "   product_id  year  curr_year_spend  prev_year_spend  yoy_rate\n",
      "0      123424  2019          1500.60              NaN       NaN\n",
      "1      123424  2020          1000.20          1500.60    -33.35\n",
      "2      123424  2021          1246.44          1000.20     24.62\n",
      "3      123424  2022          2145.32          1246.44     72.12\n"
     ]
    }
   ],
   "source": [
    "ga_user_transactions['transaction_date'] = pd.to_datetime(ga_user_transactions['transaction_date'])\n",
    "\n",
    "ga_user_transactions['year'] = ga_user_transactions['transaction_date'].dt.year\n",
    "\n",
    "agg_df = ga_user_transactions.groupby(['product_id', 'year'], as_index=False)['spend'].sum()\n",
    "\n",
    "agg_df = agg_df.sort_values(['product_id', 'year'])\n",
    "\n",
    "agg_df['prev_year_spend'] = agg_df.groupby('product_id')['spend'].shift(1)\n",
    "\n",
    "agg_df['yoy_rate'] = (\n",
    "    (agg_df['spend'] - agg_df['prev_year_spend']) / agg_df['prev_year_spend'] * 100\n",
    ").round(2)\n",
    "\n",
    "result = agg_df.rename(columns={\"spend\": \"curr_year_spend\"})\n",
    "\n",
    "print(result)"
   ]
  }
 ],
 "metadata": {
  "kernelspec": {
   "display_name": "Python 3",
   "language": "python",
   "name": "python3"
  },
  "language_info": {
   "codemirror_mode": {
    "name": "ipython",
    "version": 3
   },
   "file_extension": ".py",
   "mimetype": "text/x-python",
   "name": "python",
   "nbconvert_exporter": "python",
   "pygments_lexer": "ipython3",
   "version": "3.10.8"
  }
 },
 "nbformat": 4,
 "nbformat_minor": 5
}
