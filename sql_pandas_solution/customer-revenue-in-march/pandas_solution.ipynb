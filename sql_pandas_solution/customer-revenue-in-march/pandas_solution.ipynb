{
 "cells": [
  {
   "cell_type": "code",
   "execution_count": 1,
   "id": "9ba548bf",
   "metadata": {},
   "outputs": [],
   "source": [
    "import pandas as pd\n",
    "import numpy as np\n",
    "import sys\n",
    "import os\n",
    "\n",
    "# Add project root to path\n",
    "sys.path.append(r\"D:\\data-problem-solving\")\n",
    "\n",
    "from db import load_table, engine\n",
    "\n",
    "orders = pd.read_sql('SELECT * FROM \"customer_revenue_in_march\".orders', engine)"
   ]
  },
  {
   "cell_type": "code",
   "execution_count": 2,
   "id": "f2a2d8b8",
   "metadata": {},
   "outputs": [
    {
     "name": "stdout",
     "output_type": "stream",
     "text": [
      "   cust_id  total_revenue\n",
      "0        3          210.0\n",
      "3       15          150.0\n",
      "1        7           80.0\n",
      "2       12           20.0\n"
     ]
    }
   ],
   "source": [
    "# --- ENSURE ORDER_DATE IS DATETIME ---\n",
    "orders['order_date'] = pd.to_datetime(orders['order_date'])\n",
    "\n",
    "# --- FILTER ORDERS FOR MARCH 2019 ---\n",
    "march_orders = orders[(orders['order_date'] >= '2019-03-01') & (orders['order_date'] < '2019-04-01')]\n",
    "\n",
    "# --- GROUP BY CUSTOMER AND SUM TOTAL_ORDER_COST ---\n",
    "revenue_by_customer = (\n",
    "    march_orders.groupby('cust_id', as_index=False)\n",
    "                .agg(total_revenue=('total_order_cost', 'sum'))\n",
    ")\n",
    "\n",
    "# --- SORT BY TOTAL_REVENUE DESC ---\n",
    "revenue_by_customer = revenue_by_customer.sort_values('total_revenue', ascending=False)\n",
    "\n",
    "print(revenue_by_customer)"
   ]
  }
 ],
 "metadata": {
  "kernelspec": {
   "display_name": "Python 3",
   "language": "python",
   "name": "python3"
  },
  "language_info": {
   "codemirror_mode": {
    "name": "ipython",
    "version": 3
   },
   "file_extension": ".py",
   "mimetype": "text/x-python",
   "name": "python",
   "nbconvert_exporter": "python",
   "pygments_lexer": "ipython3",
   "version": "3.10.8"
  }
 },
 "nbformat": 4,
 "nbformat_minor": 5
}
