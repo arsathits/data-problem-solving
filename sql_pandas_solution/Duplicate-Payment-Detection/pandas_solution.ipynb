{
 "cells": [
  {
   "cell_type": "code",
   "execution_count": 1,
   "id": "1fc1e1e3",
   "metadata": {},
   "outputs": [],
   "source": [
    "import pandas as pd\n",
    "import sys\n",
    "import os\n",
    "\n",
    "# Add project root to path\n",
    "sys.path.append(r\"D:\\data-problem-solving\")\n",
    "\n",
    "from db import load_table, engine\n",
    "\n",
    "dpd_duplicate =  load_table('dpd_duplicate')"
   ]
  },
  {
   "cell_type": "code",
   "execution_count": 3,
   "id": "4b711960",
   "metadata": {},
   "outputs": [
    {
     "name": "stdout",
     "output_type": "stream",
     "text": [
      "payment_count = 1\n"
     ]
    }
   ],
   "source": [
    "dpd_duplicate['transaction_timestamp'] = pd.to_datetime(dpd_duplicate['transaction_timestamp'])\n",
    "\n",
    "dpd_duplicate = dpd_duplicate.sort_values([\"merchant_id\", \"credit_card_id\", \"amount\", \"transaction_timestamp\"])\n",
    "\n",
    "dpd_duplicate['prev_txn_time'] = dpd_duplicate.groupby(['merchant_id','credit_card_id','amount'])['transaction_timestamp'].shift(1)\n",
    "\n",
    "dpd_duplicate['time_diff'] = (dpd_duplicate['transaction_timestamp'] - dpd_duplicate['prev_txn_time']).dt.total_seconds()/60\n",
    "\n",
    "dpd_duplicate['is_repeat'] = dpd_duplicate['time_diff'].le(10)\n",
    "\n",
    "payment_count = dpd_duplicate['is_repeat'].sum()\n",
    "\n",
    "print(\"payment_count =\", int(payment_count))"
   ]
  }
 ],
 "metadata": {
  "kernelspec": {
   "display_name": "Python 3",
   "language": "python",
   "name": "python3"
  },
  "language_info": {
   "codemirror_mode": {
    "name": "ipython",
    "version": 3
   },
   "file_extension": ".py",
   "mimetype": "text/x-python",
   "name": "python",
   "nbconvert_exporter": "python",
   "pygments_lexer": "ipython3",
   "version": "3.10.8"
  }
 },
 "nbformat": 4,
 "nbformat_minor": 5
}
