{
 "cells": [
  {
   "cell_type": "code",
   "execution_count": 1,
   "id": "7c5d5efb",
   "metadata": {},
   "outputs": [],
   "source": [
    "import pandas as pd\n",
    "import numpy as np\n",
    "import sys\n",
    "import os\n",
    "\n",
    "# Add project root to path\n",
    "sys.path.append(r\"D:\\data-problem-solving\")\n",
    "\n",
    "from db import load_table, engine\n",
    "\n",
    "emails = pd.read_sql('SELECT * FROM \"activity_rank\".google_gmail_emails', engine)"
   ]
  },
  {
   "cell_type": "code",
   "execution_count": 2,
   "id": "121d2697",
   "metadata": {},
   "outputs": [
    {
     "name": "stdout",
     "output_type": "stream",
     "text": [
      "                  user  total_emails  activity_rank\n",
      "3    32ded68d89443e808            19              1\n",
      "24  ef5fe98c6b9f313075            19              2\n",
      "7   5b8754928306a18b68            18              3\n",
      "6   55e60cfcc9dc49c17e            16              4\n",
      "16  91f59516cb9dee1e88            16              5\n",
      "11  6edf0be4b2267df1fa            15              6\n",
      "13  7cfe354d9a64bf8173            15              7\n",
      "19   cbc4bd40cd1687754            15              8\n",
      "21  e0e0defbb9ec47f6f7            15              9\n",
      "15  8bba390b53976da0cd            14             10\n",
      "17  a84065b7933ad01019            14             11\n",
      "22  e22d2eabc2d4c19688            13             12\n",
      "14  850badf89ed8f06854            12             13\n",
      "18  aa0bd72b729fab6e9e            12             14\n",
      "2   2813e59cf6c1ff698e            11             15\n",
      "8   5dc768b2f067c56f77            11             16\n",
      "9   5eff3a5bfc0687351e            11             17\n",
      "12  75d295377a46f83236            11             18\n",
      "1   157e3e9278e32aba3e            10             19\n",
      "20  d63386c884aeb9f71d            10             20\n",
      "4   406539987dd9b679c0             9             21\n",
      "10  6b503743a13d778200             9             22\n",
      "0   114bafadff2d882864             8             23\n",
      "5   47be2887786891367e             6             24\n",
      "23  e6088004caf0c8cc51             6             25\n"
     ]
    }
   ],
   "source": [
    "# --- GROUP BY FROM_USER AND COUNT EMAILS ---\n",
    "activity = (\n",
    "    emails.groupby('from_user', as_index=False)\n",
    "          .agg(total_emails=('from_user', 'count'))\n",
    ")\n",
    "\n",
    "# --- SORT BY TOTAL_EMAILS DESC, THEN USER ASC ---\n",
    "activity = activity.sort_values(['total_emails', 'from_user'], ascending=[False, True])\n",
    "\n",
    "# --- ASSIGN RANK (1-based) ---\n",
    "activity['activity_rank'] = range(1, len(activity) + 1)\n",
    "\n",
    "# --- RENAME COLUMN TO MATCH SQL OUTPUT ---\n",
    "activity = activity.rename(columns={'from_user': 'user'})\n",
    "\n",
    "print(activity)"
   ]
  }
 ],
 "metadata": {
  "kernelspec": {
   "display_name": "Python 3",
   "language": "python",
   "name": "python3"
  },
  "language_info": {
   "codemirror_mode": {
    "name": "ipython",
    "version": 3
   },
   "file_extension": ".py",
   "mimetype": "text/x-python",
   "name": "python",
   "nbconvert_exporter": "python",
   "pygments_lexer": "ipython3",
   "version": "3.10.8"
  }
 },
 "nbformat": 4,
 "nbformat_minor": 5
}
