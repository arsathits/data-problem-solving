{
 "cells": [
  {
   "cell_type": "code",
   "execution_count": 2,
   "id": "f2c3dd4f",
   "metadata": {},
   "outputs": [],
   "source": [
    "import pandas as pd\n",
    "import numpy as np\n",
    "import sys\n",
    "import os\n",
    "\n",
    "# Add project root to path\n",
    "sys.path.append(r\"D:\\data-problem-solving\")\n",
    "\n",
    "from db import load_table, engine\n",
    "\n",
    "df =  load_table('monthly_purchases')"
   ]
  },
  {
   "cell_type": "code",
   "execution_count": 5,
   "id": "218c6ebb",
   "metadata": {},
   "outputs": [
    {
     "name": "stdout",
     "output_type": "stream",
     "text": [
      "  year_month  percentage_change\n",
      "0    2019-01                NaN\n",
      "1    2019-02             -59.98\n",
      "2    2019-03              12.51\n"
     ]
    }
   ],
   "source": [
    "df['year_month'] = pd.to_datetime(df['created_at']).dt.to_period('M').astype(str)\n",
    "\n",
    "monthly = df.groupby('year_month')['value'].sum().reset_index(name='total_revenue')\n",
    "\n",
    "monthly['percentage_change'] = monthly['total_revenue'].pct_change() * 100\n",
    "\n",
    "monthly['percentage_change'] = monthly['percentage_change'].round(2)\n",
    "\n",
    "result = monthly[['year_month','percentage_change']]\n",
    "\n",
    "print(result)"
   ]
  }
 ],
 "metadata": {
  "kernelspec": {
   "display_name": "Python 3",
   "language": "python",
   "name": "python3"
  },
  "language_info": {
   "codemirror_mode": {
    "name": "ipython",
    "version": 3
   },
   "file_extension": ".py",
   "mimetype": "text/x-python",
   "name": "python",
   "nbconvert_exporter": "python",
   "pygments_lexer": "ipython3",
   "version": "3.10.8"
  }
 },
 "nbformat": 4,
 "nbformat_minor": 5
}
