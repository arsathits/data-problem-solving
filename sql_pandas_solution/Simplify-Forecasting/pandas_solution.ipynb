{
 "cells": [
  {
   "cell_type": "code",
   "execution_count": 1,
   "id": "dbe7fa5e",
   "metadata": {},
   "outputs": [],
   "source": [
    "import pandas as pd\n",
    "import numpy as np\n",
    "import sys\n",
    "import os\n",
    "\n",
    "# Add project root to path\n",
    "sys.path.append(r\"D:\\data-problem-solving\")\n",
    "\n",
    "from db import load_table, engine\n",
    "\n",
    "df =  load_table('ride_requests')"
   ]
  },
  {
   "cell_type": "code",
   "execution_count": 2,
   "id": "880f1b3c",
   "metadata": {},
   "outputs": [
    {
     "name": "stdout",
     "output_type": "stream",
     "text": [
      "  request_date  total_distance  total_cost  actual_distance_per_dollar  \\\n",
      "0      2020-01          163.95       29.24                    5.607045   \n",
      "1      2020-02          112.82       19.43                    5.806485   \n",
      "2      2020-03           25.04        7.19                    3.482615   \n",
      "3         RMSE             NaN         NaN                         NaN   \n",
      "\n",
      "   forecasted_distance_per_dollar    error  \n",
      "0                             NaN      NaN  \n",
      "1                        5.607045  0.19944  \n",
      "2                        5.806485 -2.32387  \n",
      "3                             NaN  1.65000  \n"
     ]
    }
   ],
   "source": [
    "df['request_date'] = pd.to_datetime(df['request_date'])\n",
    "\n",
    "monthly = df.groupby(df['request_date'].dt.to_period('M')).agg(\n",
    "    total_distance = ('distance_to_travel', 'sum'),\n",
    "    total_cost = ('monetary_cost', 'sum')\n",
    ").reset_index()\n",
    "\n",
    "monthly['actual_distance_per_dollar'] = monthly['total_distance']/monthly['total_cost']\n",
    "\n",
    "monthly['forecasted_distance_per_dollar'] = monthly['actual_distance_per_dollar'].shift(1)\n",
    "\n",
    "monthly['error'] = monthly['actual_distance_per_dollar'] - monthly['forecasted_distance_per_dollar']\n",
    "rmse = np.sqrt((monthly['error'].dropna() ** 2).mean())\n",
    "rmse = round(rmse,2)\n",
    "\n",
    "monthly_rmse = monthly.copy()\n",
    "monthly_rmse.loc[len(monthly_rmse)] = ['RMSE', np.nan, np.nan, np.nan, np.nan, rmse]\n",
    "\n",
    "monthly_rmse['request_date'] = monthly_rmse['request_date'].astype(str)\n",
    "\n",
    "print(monthly_rmse)"
   ]
  }
 ],
 "metadata": {
  "kernelspec": {
   "display_name": "Python 3",
   "language": "python",
   "name": "python3"
  },
  "language_info": {
   "codemirror_mode": {
    "name": "ipython",
    "version": 3
   },
   "file_extension": ".py",
   "mimetype": "text/x-python",
   "name": "python",
   "nbconvert_exporter": "python",
   "pygments_lexer": "ipython3",
   "version": "3.10.8"
  }
 },
 "nbformat": 4,
 "nbformat_minor": 5
}
