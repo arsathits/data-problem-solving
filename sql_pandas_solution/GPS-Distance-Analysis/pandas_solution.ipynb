{
 "cells": [
  {
   "cell_type": "code",
   "execution_count": 1,
   "id": "189865a8",
   "metadata": {},
   "outputs": [],
   "source": [
    "import pandas as pd\n",
    "import numpy as np\n",
    "import sys\n",
    "import os\n",
    "\n",
    "# Add project root to path\n",
    "sys.path.append(r\"D:\\data-problem-solving\")\n",
    "\n",
    "from db import load_table, engine\n",
    "\n",
    "df =  load_table('fitness_sessions')"
   ]
  },
  {
   "cell_type": "code",
   "execution_count": 2,
   "id": "a37f7bf5",
   "metadata": {},
   "outputs": [],
   "source": [
    "# Haversine distance in kilometers\n",
    "def haversine(lat1, lon1, lat2, lon2):\n",
    "    R = 6371  # Earth radius in km\n",
    "    lat1, lon1, lat2, lon2 = map(np.radians, [lat1, lon1, lat2, lon2])\n",
    "    dlat = lat2 - lat1\n",
    "    dlon = lon2 - lon1\n",
    "    a = np.sin(dlat/2)**2 + np.cos(lat1)*np.cos(lat2)*np.sin(dlon/2)**2\n",
    "    return 2 * R * np.arcsin(np.sqrt(a))\n",
    "\n",
    "# Flat distance approximation (in km)\n",
    "def flat_distance(lat1, lon1, lat2, lon2):\n",
    "    return np.sqrt((lat2 - lat1)**2 + (lon2 - lon1)**2) * 111  # Rough scale factor"
   ]
  },
  {
   "cell_type": "code",
   "execution_count": 3,
   "id": "c8c6cca1",
   "metadata": {},
   "outputs": [
    {
     "name": "stdout",
     "output_type": "stream",
     "text": [
      "   session_id  avg_distance_curved  avg_distance_flat  difference\n",
      "0         101               0.0283             0.0314      0.0030\n",
      "1         102               0.0144             0.0157      0.0013\n",
      "2         201               0.0140             0.0157      0.0017\n",
      "3         202               0.0131             0.0157      0.0026\n",
      "4         301               0.0133             0.0157      0.0024\n"
     ]
    }
   ],
   "source": [
    "result_rows = []\n",
    "\n",
    "for session_id, group in df.groupby('session_id'):\n",
    "    if group.shape[0] <= 1:\n",
    "        continue  # Skip sessions with only one step\n",
    "    \n",
    "    start = group.loc[group['step_id'].idxmin()]\n",
    "    end = group.loc[group['step_id'].idxmax()]\n",
    "    \n",
    "    curved = haversine(start['latitude'], start['longitude'],\n",
    "                       end['latitude'], end['longitude'])\n",
    "    \n",
    "    flat = flat_distance(start['latitude'], start['longitude'],\n",
    "                         end['latitude'], end['longitude'])\n",
    "    \n",
    "    result_rows.append({\n",
    "        'session_id': session_id,\n",
    "        'avg_distance_curved': round(curved, 4),\n",
    "        'avg_distance_flat': round(flat, 4),\n",
    "        'difference': round(abs(flat - curved), 4)\n",
    "    })\n",
    "\n",
    "result_df = pd.DataFrame(result_rows)\n",
    "print(result_df)"
   ]
  }
 ],
 "metadata": {
  "kernelspec": {
   "display_name": "Python 3",
   "language": "python",
   "name": "python3"
  },
  "language_info": {
   "codemirror_mode": {
    "name": "ipython",
    "version": 3
   },
   "file_extension": ".py",
   "mimetype": "text/x-python",
   "name": "python",
   "nbconvert_exporter": "python",
   "pygments_lexer": "ipython3",
   "version": "3.10.8"
  }
 },
 "nbformat": 4,
 "nbformat_minor": 5
}
