{
 "cells": [
  {
   "cell_type": "code",
   "execution_count": 1,
   "id": "f8144455",
   "metadata": {},
   "outputs": [],
   "source": [
    "import pandas as pd\n",
    "import sys\n",
    "import os\n",
    "\n",
    "# Add project root to path\n",
    "sys.path.append(r\"D:\\data-problem-solving\")\n",
    "\n",
    "from db import load_table, engine\n",
    "\n",
    "SalesData =  load_table('SalesData') "
   ]
  },
  {
   "cell_type": "code",
   "execution_count": 4,
   "id": "aae3d4b9",
   "metadata": {},
   "outputs": [
    {
     "data": {
      "text/html": [
       "<div>\n",
       "<style scoped>\n",
       "    .dataframe tbody tr th:only-of-type {\n",
       "        vertical-align: middle;\n",
       "    }\n",
       "\n",
       "    .dataframe tbody tr th {\n",
       "        vertical-align: top;\n",
       "    }\n",
       "\n",
       "    .dataframe thead th {\n",
       "        text-align: right;\n",
       "    }\n",
       "</style>\n",
       "<table border=\"1\" class=\"dataframe\">\n",
       "  <thead>\n",
       "    <tr style=\"text-align: right;\">\n",
       "      <th></th>\n",
       "      <th>category</th>\n",
       "      <th>description</th>\n",
       "      <th>Discount</th>\n",
       "      <th>productname</th>\n",
       "      <th>soldunits</th>\n",
       "      <th>storeid</th>\n",
       "    </tr>\n",
       "  </thead>\n",
       "  <tbody>\n",
       "    <tr>\n",
       "      <th>0</th>\n",
       "      <td>Food</td>\n",
       "      <td>Tasty Biscuits [10% off]</td>\n",
       "      <td>0.10</td>\n",
       "      <td>Biscuits</td>\n",
       "      <td>120</td>\n",
       "      <td>S101</td>\n",
       "    </tr>\n",
       "    <tr>\n",
       "      <th>1</th>\n",
       "      <td>Hygiene</td>\n",
       "      <td>Smoothens Hair [5% off]</td>\n",
       "      <td>0.05</td>\n",
       "      <td>Shampoo</td>\n",
       "      <td>85</td>\n",
       "      <td>S102</td>\n",
       "    </tr>\n",
       "    <tr>\n",
       "      <th>2</th>\n",
       "      <td>Food</td>\n",
       "      <td>Fresh Bananas</td>\n",
       "      <td>0.00</td>\n",
       "      <td>Banana</td>\n",
       "      <td>150</td>\n",
       "      <td>S103</td>\n",
       "    </tr>\n",
       "    <tr>\n",
       "      <th>3</th>\n",
       "      <td>Hygiene</td>\n",
       "      <td>Protects Teeth</td>\n",
       "      <td>0.00</td>\n",
       "      <td>Toothpaste</td>\n",
       "      <td>300</td>\n",
       "      <td>S101</td>\n",
       "    </tr>\n",
       "    <tr>\n",
       "      <th>4</th>\n",
       "      <td>Clothes</td>\n",
       "      <td>Cotton Shirts [20% off]</td>\n",
       "      <td>0.20</td>\n",
       "      <td>Shirt</td>\n",
       "      <td>65</td>\n",
       "      <td>S102</td>\n",
       "    </tr>\n",
       "  </tbody>\n",
       "</table>\n",
       "</div>"
      ],
      "text/plain": [
       "  category               description  Discount productname  soldunits storeid\n",
       "0     Food  Tasty Biscuits [10% off]      0.10    Biscuits        120    S101\n",
       "1  Hygiene   Smoothens Hair [5% off]      0.05     Shampoo         85    S102\n",
       "2     Food             Fresh Bananas      0.00      Banana        150    S103\n",
       "3  Hygiene            Protects Teeth      0.00  Toothpaste        300    S101\n",
       "4  Clothes   Cotton Shirts [20% off]      0.20       Shirt         65    S102"
      ]
     },
     "execution_count": 4,
     "metadata": {},
     "output_type": "execute_result"
    }
   ],
   "source": [
    "SalesData['Discount'] = (\n",
    "    SalesData['description'].str.extract(r'(\\d+)%')\n",
    "    .astype(float)\n",
    "    .fillna(0) / 100\n",
    ")\n",
    "\n",
    "SalesData[[\"category\",\"description\",\"Discount\",\"productname\",\"soldunits\",\"storeid\"]]"
   ]
  }
 ],
 "metadata": {
  "kernelspec": {
   "display_name": "Python 3",
   "language": "python",
   "name": "python3"
  },
  "language_info": {
   "codemirror_mode": {
    "name": "ipython",
    "version": 3
   },
   "file_extension": ".py",
   "mimetype": "text/x-python",
   "name": "python",
   "nbconvert_exporter": "python",
   "pygments_lexer": "ipython3",
   "version": "3.10.8"
  }
 },
 "nbformat": 4,
 "nbformat_minor": 5
}
