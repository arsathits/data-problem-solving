{
 "cells": [
  {
   "cell_type": "code",
   "execution_count": 4,
   "id": "fe14a901",
   "metadata": {},
   "outputs": [],
   "source": [
    "import pandas as pd\n",
    "import numpy as np\n",
    "import sys\n",
    "import os\n",
    "\n",
    "# Add project root to path\n",
    "sys.path.append(r\"D:\\data-problem-solving\")\n",
    "\n",
    "from db import load_table, engine\n",
    "\n",
    "projects = pd.read_sql('SELECT * FROM \"risky_projects_linkedin\".linkedin_projects', engine)\n",
    "emp_projects = pd.read_sql('SELECT * FROM \"risky_projects_linkedin\".linkedin_emp_projects', engine)\n",
    "employees = pd.read_sql('SELECT * FROM \"risky_projects_linkedin\".linkedin_employees', engine)"
   ]
  },
  {
   "cell_type": "code",
   "execution_count": 6,
   "id": "74cdf033",
   "metadata": {},
   "outputs": [
    {
     "name": "stdout",
     "output_type": "stream",
     "text": [
      "   project_name   budget  total_expenses\n",
      "25    Project26  36190.0         79368.0\n",
      "23    Project24  11918.0         74665.0\n",
      "31    Project32  12356.0         66523.0\n",
      "5      Project6  41611.0         63230.0\n",
      "11    Project12  10468.0         62843.0\n",
      "36    Project37   8806.0         61949.0\n",
      "24    Project25  38909.0         57975.0\n",
      "20    Project21  24330.0         57310.0\n",
      "19    Project20  19497.0         55962.0\n",
      "29    Project30  24011.0         53106.0\n",
      "1      Project2  32487.0         52870.0\n",
      "32    Project33  30110.0         50034.0\n",
      "43    Project44  22885.0         49271.0\n",
      "28    Project29  10935.0         48371.0\n",
      "17    Project18  10302.0         46381.0\n",
      "8      Project9  32341.0         44691.0\n",
      "45    Project46   9824.0         42314.0\n",
      "13    Project14  30014.0         36774.0\n",
      "0      Project1  29498.0         36293.0\n",
      "10    Project11  11705.0         31606.0\n",
      "3      Project4  15776.0         30656.0\n",
      "34    Project35  23931.0         28652.0\n",
      "41    Project42  24934.0         28301.0\n",
      "35    Project36   4676.0         25253.0\n",
      "49    Project50  18915.0         23608.0\n",
      "33    Project34  16344.0         23102.0\n",
      "15    Project16  19922.0         21875.0\n",
      "21    Project22  18590.0         20090.0\n"
     ]
    }
   ],
   "source": [
    "# --- JOIN TABLES ---\n",
    "df = (\n",
    "    projects\n",
    "    .merge(emp_projects, left_on='id', right_on='project_id', how='inner')\n",
    "    .merge(employees, left_on='emp_id', right_on='id', how='inner', suffixes=('_proj', '_emp'))\n",
    ")\n",
    "\n",
    "# --- ENSURE DATE COLUMNS ARE DATETIME ---\n",
    "df['start_date'] = pd.to_datetime(df['start_date'])\n",
    "df['end_date'] = pd.to_datetime(df['end_date'])\n",
    "\n",
    "# --- CALCULATE PROJECT DURATION (in years) ---\n",
    "df['duration_years'] = (df['end_date'] - df['start_date']).dt.days / 365.0\n",
    "\n",
    "# --- CALCULATE TOTAL EXPENSES PER PROJECT (VECTORIZED VERSION, no apply warning) ---\n",
    "df['prorated_cost'] = df['salary'] * df['duration_years']\n",
    "\n",
    "agg_df = (\n",
    "    df.groupby(['id_proj', 'title', 'budget'], as_index=False, observed=True)\n",
    "      .agg(total_expenses=('prorated_cost', lambda x: np.ceil(x.sum())))\n",
    ")\n",
    "\n",
    "# --- FILTER PROJECTS WHERE EXPENSES > BUDGET ---\n",
    "risky_projects = agg_df[agg_df['total_expenses'] > agg_df['budget']]\n",
    "\n",
    "# --- SORT BY TOTAL_EXPENSES DESC ---\n",
    "risky_projects = risky_projects.sort_values('total_expenses', ascending=False)\n",
    "\n",
    "# --- FINAL OUTPUT ---\n",
    "risky_projects = risky_projects.rename(columns={'title': 'project_name'})[\n",
    "    ['project_name', 'budget', 'total_expenses']\n",
    "]\n",
    "\n",
    "print(risky_projects)"
   ]
  }
 ],
 "metadata": {
  "kernelspec": {
   "display_name": "Python 3",
   "language": "python",
   "name": "python3"
  },
  "language_info": {
   "codemirror_mode": {
    "name": "ipython",
    "version": 3
   },
   "file_extension": ".py",
   "mimetype": "text/x-python",
   "name": "python",
   "nbconvert_exporter": "python",
   "pygments_lexer": "ipython3",
   "version": "3.10.8"
  }
 },
 "nbformat": 4,
 "nbformat_minor": 5
}
