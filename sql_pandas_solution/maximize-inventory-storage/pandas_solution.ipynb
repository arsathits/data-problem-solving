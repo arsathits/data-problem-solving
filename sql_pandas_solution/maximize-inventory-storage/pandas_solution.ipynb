{
 "cells": [
  {
   "cell_type": "code",
   "execution_count": 1,
   "id": "3924e75b",
   "metadata": {},
   "outputs": [],
   "source": [
    "import pandas as pd\n",
    "import sys\n",
    "import os\n",
    "\n",
    "# Add project root to path\n",
    "sys.path.append(r\"D:\\data-problem-solving\")\n",
    "\n",
    "from db import load_table, engine\n",
    "\n",
    "mis_inventory =  load_table('mis_inventory')"
   ]
  },
  {
   "cell_type": "code",
   "execution_count": 2,
   "id": "b7a1edbc",
   "metadata": {},
   "outputs": [
    {
     "name": "stdout",
     "output_type": "stream",
     "text": [
      "        item_type  item_count\n",
      "0  prime_eligible      9285.0\n",
      "1       not_prime         6.0\n"
     ]
    }
   ],
   "source": [
    "# Step 1: Warehouse config\n",
    "total_capacity = 500000\n",
    "\n",
    "# Step 2: item_type_totals\n",
    "item_type_totals = (\n",
    "    mis_inventory.groupby(\"item_type\")[\"square_footage\"]\n",
    "    .sum()\n",
    "    .reset_index(name=\"total_square_footage\")\n",
    ")\n",
    "\n",
    "# Step 3: prime_allocation\n",
    "prime_total_sqft = item_type_totals.loc[\n",
    "    item_type_totals[\"item_type\"] == \"prime_eligible\", \"total_square_footage\"\n",
    "].values[0]\n",
    "\n",
    "prime_sets = total_capacity // prime_total_sqft\n",
    "prime_space_used = prime_sets * prime_total_sqft\n",
    "remaining_space = total_capacity - prime_space_used\n",
    "\n",
    "# Step 4: non_prime_allocation\n",
    "non_prime_total_sqft = item_type_totals.loc[\n",
    "    item_type_totals[\"item_type\"] == \"not_prime\", \"total_square_footage\"\n",
    "].values[0]\n",
    "\n",
    "non_prime_sets = remaining_space // non_prime_total_sqft\n",
    "\n",
    "# Step 5: item_counts\n",
    "item_counts = (\n",
    "    mis_inventory.groupby(\"item_type\")[\"item_type\"]\n",
    "    .count()\n",
    "    .reset_index(name=\"items_per_set\")\n",
    ")\n",
    "\n",
    "# Step 6: final_results\n",
    "prime_items_per_set = item_counts.loc[\n",
    "    item_counts[\"item_type\"] == \"prime_eligible\", \"items_per_set\"\n",
    "].values[0]\n",
    "\n",
    "non_prime_items_per_set = item_counts.loc[\n",
    "    item_counts[\"item_type\"] == \"not_prime\", \"items_per_set\"\n",
    "].values[0]\n",
    "\n",
    "results = pd.DataFrame([\n",
    "    {\"item_type\": \"prime_eligible\", \"item_count\": prime_sets * prime_items_per_set, \"sort_order\": 1},\n",
    "    {\"item_type\": \"not_prime\", \"item_count\": non_prime_sets * non_prime_items_per_set, \"sort_order\": 2}\n",
    "])\n",
    "\n",
    "# Step 7: final output\n",
    "final_results = results.sort_values(\"sort_order\")[\"item_type item_count\".split()]\n",
    "print(final_results)\n"
   ]
  }
 ],
 "metadata": {
  "kernelspec": {
   "display_name": "Python 3",
   "language": "python",
   "name": "python3"
  },
  "language_info": {
   "codemirror_mode": {
    "name": "ipython",
    "version": 3
   },
   "file_extension": ".py",
   "mimetype": "text/x-python",
   "name": "python",
   "nbconvert_exporter": "python",
   "pygments_lexer": "ipython3",
   "version": "3.10.8"
  }
 },
 "nbformat": 4,
 "nbformat_minor": 5
}
