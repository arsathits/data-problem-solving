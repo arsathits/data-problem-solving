{
 "cells": [
  {
   "cell_type": "code",
   "execution_count": 1,
   "id": "b490919d",
   "metadata": {},
   "outputs": [],
   "source": [
    "import pandas as pd\n",
    "import numpy as np\n",
    "import sys\n",
    "import os\n",
    "\n",
    "# Add project root to path\n",
    "sys.path.append(r\"D:\\data-problem-solving\")\n",
    "\n",
    "from db import load_table, engine\n",
    "\n",
    "df =  load_table('company_employees')"
   ]
  },
  {
   "cell_type": "code",
   "execution_count": 6,
   "id": "671ef754",
   "metadata": {},
   "outputs": [
    {
     "name": "stdout",
     "output_type": "stream",
     "text": [
      "    department  salary\n",
      "7  Engineering  180000\n",
      "8  Engineering  160000\n",
      "9  Engineering  150000\n",
      "3   Management  250000\n",
      "0   Management  200000\n",
      "1   Management  150000\n",
      "4        Sales  220000\n",
      "5        Sales  200000\n",
      "6        Sales  140000\n"
     ]
    }
   ],
   "source": [
    "df['rank'] = df.groupby(\"department\")['salary'].rank(method='dense', ascending=False)\n",
    "\n",
    "result = df[df['rank'] <= 3].sort_values(['department', 'rank'])\n",
    "\n",
    "result = result[['department', 'salary']]\n",
    "\n",
    "print(result)\n"
   ]
  }
 ],
 "metadata": {
  "kernelspec": {
   "display_name": "Python 3",
   "language": "python",
   "name": "python3"
  },
  "language_info": {
   "codemirror_mode": {
    "name": "ipython",
    "version": 3
   },
   "file_extension": ".py",
   "mimetype": "text/x-python",
   "name": "python",
   "nbconvert_exporter": "python",
   "pygments_lexer": "ipython3",
   "version": "3.10.8"
  }
 },
 "nbformat": 4,
 "nbformat_minor": 5
}
