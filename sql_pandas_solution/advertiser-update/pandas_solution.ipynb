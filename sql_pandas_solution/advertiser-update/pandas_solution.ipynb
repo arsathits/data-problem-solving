{
 "cells": [
  {
   "cell_type": "code",
   "execution_count": 3,
   "id": "74d5d90b",
   "metadata": {},
   "outputs": [],
   "source": [
    "import pandas as pd\n",
    "import numpy as np\n",
    "import sys\n",
    "import os\n",
    "\n",
    "# Add project root to path\n",
    "sys.path.append(r\"D:\\data-problem-solving\")\n",
    "\n",
    "from db import load_table, engine\n",
    "\n",
    "ad_update_advertiser =  load_table('ad_update_advertiser')\n",
    "ad_update_daily_pay =  load_table('ad_update_daily_pay')"
   ]
  },
  {
   "cell_type": "code",
   "execution_count": 5,
   "id": "73c67480",
   "metadata": {},
   "outputs": [
    {
     "name": "stdout",
     "output_type": "stream",
     "text": [
      "   user_id new_status\n",
      "2  alibaba   EXISTING\n",
      "0     bing      CHURN\n",
      "1    yahoo   EXISTING\n"
     ]
    }
   ],
   "source": [
    "# Step 1: Merge advertiser info with daily payments (LEFT JOIN)\n",
    "df = ad_update_advertiser.merge(ad_update_daily_pay, on='user_id', how=\"left\")\n",
    "\n",
    "# Step 2: Define conditions for transitions\n",
    "conditions = [\n",
    "    (df[\"status\"] == \"NEW\") & (df[\"paid\"].notna()),\n",
    "    (df[\"status\"] == \"NEW\") & (df[\"paid\"].isna()),\n",
    "    (df[\"status\"] == \"EXISTING\") & (df[\"paid\"].notna()),\n",
    "    (df[\"status\"] == \"EXISTING\") & (df[\"paid\"].isna()),\n",
    "    (df[\"status\"] == \"CHURN\") & (df[\"paid\"].notna()),\n",
    "    (df[\"status\"] == \"CHURN\") & (df[\"paid\"].isna()),\n",
    "    (df[\"status\"] == \"RESURRECT\") & (df[\"paid\"].notna()),\n",
    "    (df[\"status\"] == \"RESURRECT\") & (df[\"paid\"].isna())\n",
    "]\n",
    "\n",
    "# Step 3: Define the corresponding new statuses\n",
    "choices = [\n",
    "    \"EXISTING\",  # NEW + paid\n",
    "    \"CHURN\",     # NEW + no payment\n",
    "    \"EXISTING\",  # EXISTING + paid\n",
    "    \"CHURN\",     # EXISTING + no payment\n",
    "    \"RESURRECT\", # CHURN + paid\n",
    "    \"CHURN\",     # CHURN + no payment\n",
    "    \"EXISTING\",  # RESURRECT + paid\n",
    "    \"CHURN\"      # RESURRECT + no payment\n",
    "]\n",
    "\n",
    "df['new_status'] = np.select(conditions, choices, default=df[\"status\"])\n",
    "\n",
    "result = df[['user_id', 'new_status']].sort_values('user_id')\n",
    "\n",
    "print(result)"
   ]
  }
 ],
 "metadata": {
  "kernelspec": {
   "display_name": "Python 3",
   "language": "python",
   "name": "python3"
  },
  "language_info": {
   "codemirror_mode": {
    "name": "ipython",
    "version": 3
   },
   "file_extension": ".py",
   "mimetype": "text/x-python",
   "name": "python",
   "nbconvert_exporter": "python",
   "pygments_lexer": "ipython3",
   "version": "3.10.8"
  }
 },
 "nbformat": 4,
 "nbformat_minor": 5
}
