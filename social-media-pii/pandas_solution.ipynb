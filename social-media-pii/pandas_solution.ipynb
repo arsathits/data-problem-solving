{
 "cells": [
  {
   "cell_type": "code",
   "execution_count": 1,
   "id": "282e3031",
   "metadata": {},
   "outputs": [],
   "source": [
    "import pandas as pd\n",
    "from sqlalchemy import create_engine\n",
    "from urllib.parse import quote_plus"
   ]
  },
  {
   "cell_type": "code",
   "execution_count": 2,
   "id": "97fdcd84",
   "metadata": {},
   "outputs": [],
   "source": [
    "# PostgreSQL credentials\n",
    "username = \"postgres\"                 \n",
    "password = quote_plus(\"Thanda@23\")     \n",
    "host = \"localhost\"\n",
    "port = \"5432\"\n",
    "database = \"data_problems\"            \n",
    "\n",
    "engine = create_engine(f'postgresql://{username}:{password}@{host}:{port}/{database}')\n",
    "\n",
    "input_df = pd.read_sql('SELECT * FROM problem_04_social_media_pii', engine)"
   ]
  },
  {
   "cell_type": "code",
   "execution_count": 6,
   "id": "d9067f43",
   "metadata": {},
   "outputs": [],
   "source": [
    "def process_user_data(input_df):\n",
    "\n",
    "    input_df['email_domain'] = input_df['email'].str.split('@').str[1]\n",
    "    \n",
    "    # Convert phone to string, pad with zeros if needed\n",
    "    input_df['phone_str'] = input_df['phone'].astype(str).str.zfill(10)\n",
    "\n",
    "    input_df['anon_phone'] = '******' + input_df['phone_str'].str[-4:]\n",
    "\n",
    "    result = input_df.sort_values(by='anon_phone')\n",
    "\n",
    "    return result[['anon_phone', 'email_domain', 'user_id']]"
   ]
  },
  {
   "cell_type": "code",
   "execution_count": 7,
   "id": "3edafb18",
   "metadata": {},
   "outputs": [
    {
     "name": "stdout",
     "output_type": "stream",
     "text": [
      "   anon_phone email_domain  user_id\n",
      "4  ******1234  platform.io        5\n",
      "0  ******4567  example.com        1\n",
      "1  ******6543   domain.net        2\n",
      "3  ******7890     site.com        4\n",
      "2  ******9876    email.org        3\n"
     ]
    }
   ],
   "source": [
    "final_df = process_user_data(input_df)\n",
    "print(final_df)"
   ]
  }
 ],
 "metadata": {
  "kernelspec": {
   "display_name": "Python 3",
   "language": "python",
   "name": "python3"
  },
  "language_info": {
   "codemirror_mode": {
    "name": "ipython",
    "version": 3
   },
   "file_extension": ".py",
   "mimetype": "text/x-python",
   "name": "python",
   "nbconvert_exporter": "python",
   "pygments_lexer": "ipython3",
   "version": "3.10.8"
  }
 },
 "nbformat": 4,
 "nbformat_minor": 5
}
