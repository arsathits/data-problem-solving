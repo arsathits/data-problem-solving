{
 "cells": [
  {
   "cell_type": "code",
   "execution_count": 1,
   "id": "d795cf98",
   "metadata": {},
   "outputs": [],
   "source": [
    "import pandas as pd\n",
    "import numpy as np\n",
    "import sys\n",
    "import os\n",
    "\n",
    "# Add project root to path\n",
    "sys.path.append(r\"D:\\data-problem-solving\")\n",
    "\n",
    "from db import load_table, engine\n",
    "\n",
    "df =  load_table('su_server_utilization')"
   ]
  },
  {
   "cell_type": "code",
   "execution_count": 3,
   "id": "8453379a",
   "metadata": {},
   "outputs": [
    {
     "name": "stdout",
     "output_type": "stream",
     "text": [
      "Total uptime (days): 9.0\n"
     ]
    }
   ],
   "source": [
    "df[\"status_tim\"] = pd.to_datetime(df[\"status_tim\"])\n",
    "\n",
    "# Sort by server and timestamp\n",
    "df = df.sort_values([\"server_id\", \"status_tim\"])\n",
    "\n",
    "# Shift previous event info\n",
    "df[\"prev_time\"] = df.groupby(\"server_id\")[\"status_tim\"].shift(1)\n",
    "df[\"prev_status\"] = df.groupby(\"server_id\")[\"session_status\"].shift(1)\n",
    "\n",
    "# Calculate diff only for stop rows where previous was start\n",
    "df[\"uptime_days\"] = (df[\"status_tim\"] - df[\"prev_time\"]).dt.days\n",
    "df.loc[~((df[\"session_status\"] == \"stop\") & (df[\"prev_status\"] == \"start\")), \"uptime_days\"] = 0\n",
    "\n",
    "# Total uptime\n",
    "total_uptime = df[\"uptime_days\"].sum()\n",
    "\n",
    "print(\"Total uptime (days):\", total_uptime)"
   ]
  }
 ],
 "metadata": {
  "kernelspec": {
   "display_name": "Python 3",
   "language": "python",
   "name": "python3"
  },
  "language_info": {
   "codemirror_mode": {
    "name": "ipython",
    "version": 3
   },
   "file_extension": ".py",
   "mimetype": "text/x-python",
   "name": "python",
   "nbconvert_exporter": "python",
   "pygments_lexer": "ipython3",
   "version": "3.10.8"
  }
 },
 "nbformat": 4,
 "nbformat_minor": 5
}
