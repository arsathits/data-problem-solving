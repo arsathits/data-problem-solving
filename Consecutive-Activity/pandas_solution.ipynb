{
 "cells": [
  {
   "cell_type": "code",
   "execution_count": 1,
   "id": "be79e178",
   "metadata": {},
   "outputs": [],
   "source": [
    "import pandas as pd\n",
    "import numpy as np\n",
    "import sys\n",
    "import os\n",
    "\n",
    "# Add project root to path\n",
    "sys.path.append(r\"D:\\data-problem-solving\")\n",
    "\n",
    "from db import load_table, engine\n",
    "\n",
    "df =  load_table('ca_consecutive_act')"
   ]
  },
  {
   "cell_type": "code",
   "execution_count": 2,
   "id": "3bfd0501",
   "metadata": {},
   "outputs": [
    {
     "name": "stdout",
     "output_type": "stream",
     "text": [
      "0    U4\n",
      "Name: user_id, dtype: object\n"
     ]
    }
   ],
   "source": [
    "df['date'] = pd.to_datetime(df['date'])\n",
    "\n",
    "df = df.drop_duplicates(subset=['user_id', 'date']).sort_values(['user_id', 'date'])\n",
    "\n",
    "df['group_key'] = df.groupby('user_id').cumcount()\n",
    "df['group_value'] = df['date'] - pd.to_timedelta(df['group_key'], unit='D')\n",
    "\n",
    "grouped = (\n",
    "    df.groupby(['user_id', 'group_value'])\n",
    "      .size()\n",
    "      .reset_index(name='consecutive_days')\n",
    ")\n",
    "\n",
    "result = (\n",
    "    grouped[grouped['consecutive_days'] >= 3]['user_id']\n",
    "    .drop_duplicates()\n",
    "    .reset_index(drop=True)\n",
    ")\n",
    "print(result)"
   ]
  }
 ],
 "metadata": {
  "kernelspec": {
   "display_name": "Python 3",
   "language": "python",
   "name": "python3"
  },
  "language_info": {
   "codemirror_mode": {
    "name": "ipython",
    "version": 3
   },
   "file_extension": ".py",
   "mimetype": "text/x-python",
   "name": "python",
   "nbconvert_exporter": "python",
   "pygments_lexer": "ipython3",
   "version": "3.10.8"
  }
 },
 "nbformat": 4,
 "nbformat_minor": 5
}
