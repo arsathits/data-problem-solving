{
 "cells": [
  {
   "cell_type": "code",
   "execution_count": 1,
   "id": "8e3d3ff7",
   "metadata": {},
   "outputs": [],
   "source": [
    "import pandas as pd\n",
    "import numpy as np\n",
    "import sys\n",
    "import os\n",
    "\n",
    "# Add project root to path\n",
    "sys.path.append(r\"D:\\data-problem-solving\")\n",
    "\n",
    "from db import load_table, engine\n",
    "\n",
    "sc_employee =  load_table('sc_employee')\n",
    "sc_salary =  load_table('sc_salary')"
   ]
  },
  {
   "cell_type": "code",
   "execution_count": 7,
   "id": "c9409021",
   "metadata": {},
   "outputs": [
    {
     "data": {
      "text/html": [
       "<div>\n",
       "<style scoped>\n",
       "    .dataframe tbody tr th:only-of-type {\n",
       "        vertical-align: middle;\n",
       "    }\n",
       "\n",
       "    .dataframe tbody tr th {\n",
       "        vertical-align: top;\n",
       "    }\n",
       "\n",
       "    .dataframe thead th {\n",
       "        text-align: right;\n",
       "    }\n",
       "</style>\n",
       "<table border=\"1\" class=\"dataframe\">\n",
       "  <thead>\n",
       "    <tr style=\"text-align: right;\">\n",
       "      <th></th>\n",
       "      <th>comparison</th>\n",
       "      <th>department_id</th>\n",
       "      <th>payment_month</th>\n",
       "    </tr>\n",
       "  </thead>\n",
       "  <tbody>\n",
       "    <tr>\n",
       "      <th>0</th>\n",
       "      <td>same</td>\n",
       "      <td>1</td>\n",
       "      <td>03-2024</td>\n",
       "    </tr>\n",
       "  </tbody>\n",
       "</table>\n",
       "</div>"
      ],
      "text/plain": [
       "  comparison  department_id payment_month\n",
       "0       same              1       03-2024"
      ]
     },
     "execution_count": 7,
     "metadata": {},
     "output_type": "execute_result"
    }
   ],
   "source": [
    "df = sc_employee.merge(sc_salary, on='employee_id', how='inner')\n",
    "\n",
    "df_march = df[df['payment_date'].dt.strftime(\"%m-%Y\") == \"03-2024\"]\n",
    "\n",
    "dept_avg = df_march.groupby(\"department_id\")[\"amount\"].mean().reset_index(name=\"dept_avg_salary\")\n",
    "\n",
    "company_avg = df_march['amount'].mean()\n",
    "\n",
    "dept_avg[\"comparison\"] = dept_avg[\"dept_avg_salary\"].apply(\n",
    "    lambda x: \"higher\" if x > company_avg else (\"lower\" if x < company_avg else \"same\")\n",
    ")\n",
    "\n",
    "dept_avg[\"payment_month\"] = \"03-2024\"\n",
    "\n",
    "result = dept_avg[[\"comparison\", \"department_id\", \"payment_month\"]]\n",
    "result"
   ]
  }
 ],
 "metadata": {
  "kernelspec": {
   "display_name": "Python 3",
   "language": "python",
   "name": "python3"
  },
  "language_info": {
   "codemirror_mode": {
    "name": "ipython",
    "version": 3
   },
   "file_extension": ".py",
   "mimetype": "text/x-python",
   "name": "python",
   "nbconvert_exporter": "python",
   "pygments_lexer": "ipython3",
   "version": "3.10.8"
  }
 },
 "nbformat": 4,
 "nbformat_minor": 5
}
