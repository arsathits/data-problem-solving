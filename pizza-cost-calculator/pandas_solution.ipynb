{
 "cells": [
  {
   "cell_type": "code",
   "execution_count": 2,
   "id": "567abc2a",
   "metadata": {},
   "outputs": [],
   "source": [
    "import pandas as pd\n",
    "import sys\n",
    "import os\n",
    "from itertools import combinations\n",
    "\n",
    "# Add project root to path\n",
    "sys.path.append(r\"D:\\data-problem-solving\")\n",
    "\n",
    "from db import load_table, engine\n",
    "\n",
    "df =  load_table('pizza_toppings')"
   ]
  },
  {
   "cell_type": "code",
   "execution_count": 3,
   "id": "e26ebe02",
   "metadata": {},
   "outputs": [
    {
     "name": "stdout",
     "output_type": "stream",
     "text": [
      "                            pizza  total_cost\n",
      "0       Chicken,Pepperoni,Sausage        1.75\n",
      "1    Chicken,Extra Cheese,Sausage        1.65\n",
      "2  Extra Cheese,Pepperoni,Sausage        1.60\n",
      "3  Chicken,Extra Cheese,Pepperoni        1.45\n"
     ]
    }
   ],
   "source": [
    "topping_combos = list(combinations(df.itertuples(index=False),3))\n",
    "\n",
    "result = []\n",
    "\n",
    "for combo in topping_combos:\n",
    "    toppings = sorted([c.topping_name for c in combo])\n",
    "    total_cost = sum([c.ingredient_cost for c in combo])\n",
    "    result.append({'pizza':\",\".join(toppings), \"total_cost\": total_cost})\n",
    "\n",
    "result_df = pd.DataFrame(result)\n",
    "\n",
    "result_df = result_df.sort_values(by=[\"total_cost\", \"pizza\"], ascending=[False, True]).reset_index(drop=True)\n",
    "\n",
    "print(result_df)"
   ]
  }
 ],
 "metadata": {
  "kernelspec": {
   "display_name": "Python 3",
   "language": "python",
   "name": "python3"
  },
  "language_info": {
   "codemirror_mode": {
    "name": "ipython",
    "version": 3
   },
   "file_extension": ".py",
   "mimetype": "text/x-python",
   "name": "python",
   "nbconvert_exporter": "python",
   "pygments_lexer": "ipython3",
   "version": "3.10.8"
  }
 },
 "nbformat": 4,
 "nbformat_minor": 5
}
