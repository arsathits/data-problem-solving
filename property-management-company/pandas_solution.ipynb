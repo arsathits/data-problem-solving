{
 "cells": [
  {
   "cell_type": "code",
   "execution_count": 1,
   "id": "b9691e7b",
   "metadata": {},
   "outputs": [],
   "source": [
    "import pandas as pd\n",
    "from sqlalchemy import create_engine\n",
    "from urllib.parse import quote_plus"
   ]
  },
  {
   "cell_type": "code",
   "execution_count": 3,
   "id": "4cb000ee",
   "metadata": {},
   "outputs": [],
   "source": [
    "# PostgreSQL credentials\n",
    "username = \"postgres\"                 \n",
    "password = quote_plus(\"Thanda@23\")     \n",
    "host = \"localhost\"\n",
    "port = \"5432\"\n",
    "database = \"data_problems\"            \n",
    "\n",
    "engine = create_engine(f'postgresql://{username}:{password}@{host}:{port}/{database}')\n",
    "\n",
    "prop_properties = pd.read_sql('SELECT * FROM problem_03_prop_properties', engine)\n",
    "prop_landlords = pd.read_sql('SELECT * FROM problem_03_prop_landlords', engine)"
   ]
  },
  {
   "cell_type": "code",
   "execution_count": 14,
   "id": "cdaf01ac",
   "metadata": {},
   "outputs": [],
   "source": [
    "def etl(prop_landlords, prop_properties):\n",
    "    # Merge the two DataFrames on landlord_id\n",
    "    merged_df = prop_properties.merge(prop_landlords, how='inner', on='landlord_id')\n",
    "\n",
    "    # Assign landlord_name, group by landlord_id and landlord_name, then sum rent\n",
    "    final_df = merged_df.assign(\n",
    "        landlord_name=merged_df['first_name'] + ' ' + merged_df['last_name']\n",
    "    ).groupby(\n",
    "        ['landlord_id', 'landlord_name']\n",
    "    ).agg(\n",
    "        total_rental_income=('rent', 'sum')\n",
    "    ).reset_index().sort_values('landlord_id')\n",
    "\n",
    "    return final_df"
   ]
  },
  {
   "cell_type": "code",
   "execution_count": null,
   "id": "0c6260ce",
   "metadata": {},
   "outputs": [
    {
     "data": {
      "text/html": [
       "<div>\n",
       "<style scoped>\n",
       "    .dataframe tbody tr th:only-of-type {\n",
       "        vertical-align: middle;\n",
       "    }\n",
       "\n",
       "    .dataframe tbody tr th {\n",
       "        vertical-align: top;\n",
       "    }\n",
       "\n",
       "    .dataframe thead th {\n",
       "        text-align: right;\n",
       "    }\n",
       "</style>\n",
       "<table border=\"1\" class=\"dataframe\">\n",
       "  <thead>\n",
       "    <tr style=\"text-align: right;\">\n",
       "      <th></th>\n",
       "      <th>landlord_id</th>\n",
       "      <th>landlord_name</th>\n",
       "      <th>total_rental_income</th>\n",
       "    </tr>\n",
       "  </thead>\n",
       "  <tbody>\n",
       "    <tr>\n",
       "      <th>0</th>\n",
       "      <td>101</td>\n",
       "      <td>John Smith</td>\n",
       "      <td>2700.0</td>\n",
       "    </tr>\n",
       "    <tr>\n",
       "      <th>1</th>\n",
       "      <td>102</td>\n",
       "      <td>Jane Doe</td>\n",
       "      <td>2000.0</td>\n",
       "    </tr>\n",
       "    <tr>\n",
       "      <th>2</th>\n",
       "      <td>103</td>\n",
       "      <td>Bob Johnson</td>\n",
       "      <td>2800.0</td>\n",
       "    </tr>\n",
       "  </tbody>\n",
       "</table>\n",
       "</div>"
      ],
      "text/plain": [
       "   landlord_id landlord_name  total_rental_income\n",
       "0          101    John Smith               2700.0\n",
       "1          102      Jane Doe               2000.0\n",
       "2          103   Bob Johnson               2800.0"
      ]
     },
     "execution_count": 15,
     "metadata": {},
     "output_type": "execute_result"
    }
   ],
   "source": [
    "etl(prop_landlords, prop_properties)"
   ]
  },
  {
   "cell_type": "code",
   "execution_count": null,
   "id": "9f97e03a",
   "metadata": {},
   "outputs": [],
   "source": []
  }
 ],
 "metadata": {
  "kernelspec": {
   "display_name": "Python 3",
   "language": "python",
   "name": "python3"
  },
  "language_info": {
   "codemirror_mode": {
    "name": "ipython",
    "version": 3
   },
   "file_extension": ".py",
   "mimetype": "text/x-python",
   "name": "python",
   "nbconvert_exporter": "python",
   "pygments_lexer": "ipython3",
   "version": "3.10.8"
  }
 },
 "nbformat": 4,
 "nbformat_minor": 5
}
