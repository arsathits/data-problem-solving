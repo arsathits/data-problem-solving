{
 "cells": [
  {
   "cell_type": "code",
   "execution_count": 13,
   "id": "4ce587d7",
   "metadata": {},
   "outputs": [],
   "source": [
    "import pandas as pd\n",
    "from sqlalchemy import create_engine\n",
    "from urllib.parse import quote_plus"
   ]
  },
  {
   "cell_type": "code",
   "execution_count": 15,
   "id": "83dfec53",
   "metadata": {},
   "outputs": [],
   "source": [
    "# PostgreSQL credentials\n",
    "username = \"postgres\"                 \n",
    "password = quote_plus(\"Thanda@23\")     \n",
    "host = \"localhost\"\n",
    "port = \"5432\"\n",
    "database = \"data_problems\"            \n",
    "\n",
    "engine = create_engine(f'postgresql://{username}:{password}@{host}:{port}/{database}')\n",
    "\n",
    "video_stream_df = pd.read_sql('SELECT * FROM problem_01_videos', engine)"
   ]
  },
  {
   "cell_type": "code",
   "execution_count": 16,
   "id": "43db3613",
   "metadata": {},
   "outputs": [
    {
     "name": "stdout",
     "output_type": "stream",
     "text": [
      "   duration   genre  release_year                 title  video_id  view_count\n",
      "2       115   Drama          2022     Mysterious Island         3     1500000\n",
      "0       120  Action          2020     Amazing Adventure         1     2500000\n",
      "4       128  Sci-fi          2021  Journey to the Stars         5     1100000\n",
      "3       134  Action          2019      Uncharted Realms         4     3200000\n"
     ]
    }
   ],
   "source": [
    "current_year = pd.Timestamp.now().year\n",
    "\n",
    "filtered_df = (\n",
    "    video_stream_df[\n",
    "        (video_stream_df['view_count'] > 1000000) &\n",
    "        (video_stream_df['release_year'] >= current_year - 6)\n",
    "    ][['duration', 'genre', 'release_year', 'title', 'video_id', 'view_count']]\n",
    "    .sort_values(by='duration')\n",
    ")\n",
    "\n",
    "print(filtered_df)"
   ]
  },
  {
   "cell_type": "code",
   "execution_count": null,
   "id": "e49a1fd8",
   "metadata": {},
   "outputs": [],
   "source": []
  }
 ],
 "metadata": {
  "kernelspec": {
   "display_name": "Python 3",
   "language": "python",
   "name": "python3"
  },
  "language_info": {
   "codemirror_mode": {
    "name": "ipython",
    "version": 3
   },
   "file_extension": ".py",
   "mimetype": "text/x-python",
   "name": "python",
   "nbconvert_exporter": "python",
   "pygments_lexer": "ipython3",
   "version": "3.10.8"
  }
 },
 "nbformat": 4,
 "nbformat_minor": 5
}
