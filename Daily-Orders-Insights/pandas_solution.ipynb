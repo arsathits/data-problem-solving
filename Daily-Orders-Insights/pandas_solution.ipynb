{
 "cells": [
  {
   "cell_type": "code",
   "execution_count": 1,
   "id": "52672e68",
   "metadata": {},
   "outputs": [],
   "source": [
    "import pandas as pd\n",
    "import numpy as np\n",
    "import sys\n",
    "import os\n",
    "\n",
    "# Add project root to path\n",
    "sys.path.append(r\"D:\\data-problem-solving\")\n",
    "\n",
    "from db import load_table, engine\n",
    "\n",
    "doi_session =  load_table('doi_session')\n",
    "doi_orders  =  load_table('doi_orders')"
   ]
  },
  {
   "cell_type": "code",
   "execution_count": 2,
   "id": "8c7d9a3e",
   "metadata": {},
   "outputs": [
    {
     "name": "stdout",
     "output_type": "stream",
     "text": [
      "   user_id session_date  total_orders  total_order_value\n",
      "0        1   2024-01-01             1                152\n",
      "1        2   2024-01-02             1                485\n",
      "2        3   2024-01-05             3                870\n",
      "3        4   2024-01-03             2                277\n",
      "4        5   2024-01-04             3                479\n"
     ]
    }
   ],
   "source": [
    "unique_sessions = doi_session.drop_duplicates(subset=[\"user_id\", \"session_date\"])\n",
    "\n",
    "merged = pd.merge(\n",
    "    unique_sessions,\n",
    "    doi_orders,\n",
    "    left_on=[\"user_id\", \"session_date\"],\n",
    "    right_on=[\"user_id\", \"order_date\"],\n",
    "    how=\"inner\"\n",
    ")\n",
    "\n",
    "result = (\n",
    "    merged.groupby([\"user_id\", \"session_date\"])\n",
    "    .agg(total_orders=(\"order_id\", \"count\"), total_order_value=(\"order_value\", \"sum\"))\n",
    "    .reset_index()\n",
    "    .sort_values([\"user_id\", \"session_date\"])\n",
    ")\n",
    "\n",
    "print(result)"
   ]
  }
 ],
 "metadata": {
  "kernelspec": {
   "display_name": "Python 3",
   "language": "python",
   "name": "python3"
  },
  "language_info": {
   "codemirror_mode": {
    "name": "ipython",
    "version": 3
   },
   "file_extension": ".py",
   "mimetype": "text/x-python",
   "name": "python",
   "nbconvert_exporter": "python",
   "pygments_lexer": "ipython3",
   "version": "3.10.8"
  }
 },
 "nbformat": 4,
 "nbformat_minor": 5
}
