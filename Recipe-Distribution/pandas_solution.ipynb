{
 "cells": [
  {
   "cell_type": "code",
   "execution_count": 1,
   "id": "f2f3a7a6",
   "metadata": {},
   "outputs": [],
   "source": [
    "import pandas as pd\n",
    "import numpy as np\n",
    "import sys\n",
    "import os\n",
    "\n",
    "# Add project root to path\n",
    "sys.path.append(r\"D:\\data-problem-solving\")\n",
    "\n",
    "from db import load_table, engine\n",
    "\n",
    "df =  load_table('cookbook_recipes')"
   ]
  },
  {
   "cell_type": "code",
   "execution_count": 4,
   "id": "84155aae",
   "metadata": {},
   "outputs": [
    {
     "name": "stdout",
     "output_type": "stream",
     "text": [
      "   left_page_number   left_title right_title\n",
      "0                 0         None        None\n",
      "1                 2       Fondue    Sandwich\n",
      "2                 4  Tomato soup         NaN\n",
      "3                 6        Liver         NaN\n",
      "4                12  Boiled duck         NaN\n"
     ]
    }
   ],
   "source": [
    "# Left pages (even-numbered)\n",
    "left_pages = df[df['page_number'] % 2 == 0][['page_number', 'title']].copy()\n",
    "left_pages.rename(columns={'page_number': 'left_page_number', 'title': 'left_title'}, inplace=True)\n",
    "\n",
    "# Right pages (odd-numbered)\n",
    "right_pages = df[df['page_number'] % 2 != 0][['page_number', 'title']].copy()\n",
    "right_pages.rename(columns={'page_number': 'right_page_number', 'title': 'right_title'}, inplace=True)\n",
    "\n",
    "# Shift right_pages by -1 to match left_pages\n",
    "right_pages['left_page_number'] = right_pages['right_page_number'] - 1\n",
    "\n",
    "# Merge left and right pages\n",
    "merged = pd.merge(left_pages, right_pages, on='left_page_number', how='left')\n",
    "\n",
    "# Add front cover (page 0)\n",
    "front_cover = pd.DataFrame({\n",
    "    'left_page_number': [0],\n",
    "    'left_title': [None],\n",
    "    'right_title': [None]\n",
    "})\n",
    "\n",
    "# Combine final output\n",
    "result = pd.concat([front_cover, merged[['left_page_number', 'left_title', 'right_title']]], ignore_index=True)\n",
    "result = result.sort_values('left_page_number').reset_index(drop=True)\n",
    "\n",
    "print(result)"
   ]
  }
 ],
 "metadata": {
  "kernelspec": {
   "display_name": "Python 3",
   "language": "python",
   "name": "python3"
  },
  "language_info": {
   "codemirror_mode": {
    "name": "ipython",
    "version": 3
   },
   "file_extension": ".py",
   "mimetype": "text/x-python",
   "name": "python",
   "nbconvert_exporter": "python",
   "pygments_lexer": "ipython3",
   "version": "3.10.8"
  }
 },
 "nbformat": 4,
 "nbformat_minor": 5
}
