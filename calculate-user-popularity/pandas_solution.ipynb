{
 "cells": [
  {
   "cell_type": "code",
   "execution_count": 1,
   "id": "d7050134",
   "metadata": {},
   "outputs": [],
   "source": [
    "import pandas as pd\n",
    "import numpy as np\n",
    "import sys\n",
    "import os\n",
    "\n",
    "# Add project root to path\n",
    "sys.path.append(r\"D:\\data-problem-solving\")\n",
    "\n",
    "from db import load_table, engine\n",
    "\n",
    "df =  load_table('cup_user_percentage')"
   ]
  },
  {
   "cell_type": "code",
   "execution_count": 4,
   "id": "62e60f7e",
   "metadata": {},
   "outputs": [
    {
     "name": "stdout",
     "output_type": "stream",
     "text": [
      "   user_id  famous_percent\n",
      "0        1           15.38\n",
      "1        2            7.69\n",
      "2        5           15.38\n",
      "3       11            7.69\n",
      "4       12            7.69\n",
      "5       13           15.38\n",
      "6       14           15.38\n",
      "7       15           15.38\n"
     ]
    }
   ],
   "source": [
    "all_users = pd.Series(pd.concat([df['user_id'], df['follower_id']]).unique())\n",
    "total_users = len(all_users)\n",
    "\n",
    "follower_count = df.groupby('user_id')['follower_id'].count().reset_index(name=\"num_followers\")\n",
    "\n",
    "follower_count['famous_percent'] = round((follower_count['num_followers']/ total_users)*100,2)\n",
    "\n",
    "result = follower_count[['user_id', 'famous_percent']].sort_values('user_id')\n",
    "\n",
    "print(result)"
   ]
  }
 ],
 "metadata": {
  "kernelspec": {
   "display_name": "Python 3",
   "language": "python",
   "name": "python3"
  },
  "language_info": {
   "codemirror_mode": {
    "name": "ipython",
    "version": 3
   },
   "file_extension": ".py",
   "mimetype": "text/x-python",
   "name": "python",
   "nbconvert_exporter": "python",
   "pygments_lexer": "ipython3",
   "version": "3.10.8"
  }
 },
 "nbformat": 4,
 "nbformat_minor": 5
}
