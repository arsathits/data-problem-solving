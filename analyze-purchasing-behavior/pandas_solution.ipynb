{
 "cells": [
  {
   "cell_type": "code",
   "execution_count": 1,
   "id": "c861ca45",
   "metadata": {},
   "outputs": [],
   "source": [
    "import pandas as pd\n",
    "import numpy as np\n",
    "import sys\n",
    "import os\n",
    "\n",
    "# Add project root to path\n",
    "sys.path.append(r\"D:\\data-problem-solving\")\n",
    "\n",
    "from db import load_table, engine\n",
    "\n",
    "df =  load_table('user_purchases')"
   ]
  },
  {
   "cell_type": "code",
   "execution_count": 5,
   "id": "78a27cc4",
   "metadata": {},
   "outputs": [
    {
     "name": "stdout",
     "output_type": "stream",
     "text": [
      "   week_number  avg_amount_spent\n",
      "0            2             742.5\n",
      "1            4             424.0\n",
      "2            5             590.0\n",
      "3            8             259.0\n"
     ]
    }
   ],
   "source": [
    "df['date'] = pd.to_datetime(df['date'])\n",
    "\n",
    "df_friday = df[\n",
    "    (df['day_name'] == 'Friday') &\n",
    "    (df['date'].dt.month.isin([1,2,3]))\n",
    "].copy()\n",
    "\n",
    "df_friday['week_number'] = df_friday['date'].dt.isocalendar().week\n",
    "\n",
    "result = df_friday.groupby('week_number', as_index=False)['amount_spent'].mean().rename(columns={\"amount_spent\": \"avg_amount_spent\"})\n",
    "\n",
    "result[\"avg_amount_spent\"] = result[\"avg_amount_spent\"].round(2)\n",
    "\n",
    "print(result)"
   ]
  }
 ],
 "metadata": {
  "kernelspec": {
   "display_name": "Python 3",
   "language": "python",
   "name": "python3"
  },
  "language_info": {
   "codemirror_mode": {
    "name": "ipython",
    "version": 3
   },
   "file_extension": ".py",
   "mimetype": "text/x-python",
   "name": "python",
   "nbconvert_exporter": "python",
   "pygments_lexer": "ipython3",
   "version": "3.10.8"
  }
 },
 "nbformat": 4,
 "nbformat_minor": 5
}
