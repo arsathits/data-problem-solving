{
 "cells": [
  {
   "cell_type": "code",
   "execution_count": 3,
   "id": "f2370d0e",
   "metadata": {},
   "outputs": [],
   "source": [
    "import pandas as pd\n",
    "import sys\n",
    "import os\n",
    "\n",
    "# Add project root to path\n",
    "sys.path.append(r\"D:\\data-problem-solving\")\n",
    "\n",
    "from db import load_table, engine\n",
    "\n",
    "df =  load_table('msf_search_frequency')"
   ]
  },
  {
   "cell_type": "code",
   "execution_count": 4,
   "id": "bffeda3e",
   "metadata": {},
   "outputs": [
    {
     "name": "stdout",
     "output_type": "stream",
     "text": [
      "2.5\n"
     ]
    }
   ],
   "source": [
    "expanded = df.loc[df.index.repeat(df['num_users'])].reset_index(drop=True)\n",
    "\n",
    "median_value = expanded['searches'].median()\n",
    "\n",
    "median_value = round(median_value,2)\n",
    "\n",
    "print(median_value)"
   ]
  }
 ],
 "metadata": {
  "kernelspec": {
   "display_name": "Python 3",
   "language": "python",
   "name": "python3"
  },
  "language_info": {
   "codemirror_mode": {
    "name": "ipython",
    "version": 3
   },
   "file_extension": ".py",
   "mimetype": "text/x-python",
   "name": "python",
   "nbconvert_exporter": "python",
   "pygments_lexer": "ipython3",
   "version": "3.10.8"
  }
 },
 "nbformat": 4,
 "nbformat_minor": 5
}
